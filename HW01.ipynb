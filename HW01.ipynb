{
 "cells": [
  {
   "cell_type": "markdown",
   "metadata": {},
   "source": [
    "Задача 1:\n",
    "Придумайте такой список `a`, что \n",
    "\n",
    "`len(a) == 5`\n",
    "\n",
    "Для всех $i$ от $0$ до $4$ верно, что `(a[i] + a[-i]) == 6` "
   ]
  },
  {
   "cell_type": "code",
   "execution_count": null,
   "metadata": {},
   "outputs": [],
   "source": [
    "a = [...]"
   ]
  },
  {
   "cell_type": "markdown",
   "metadata": {},
   "source": [
    "Задача 2: Найдите такой срез `b` списка `B`, что `' '.join(b) == \"Asd Dsa \"` (с пробелом в конце)"
   ]
  },
  {
   "cell_type": "code",
   "execution_count": null,
   "metadata": {},
   "outputs": [],
   "source": [
    "B = [\"Asd \", \"Asd\", \"Dsa\", \"Dsa \"]\n",
    "b = B[...]"
   ]
  },
  {
   "cell_type": "markdown",
   "metadata": {},
   "source": [
    "Задача 3: Найдите минимальное (по количеству элементов) множество `c`, такое, что данные операции выполняются без ошибок."
   ]
  },
  {
   "cell_type": "code",
   "execution_count": null,
   "metadata": {},
   "outputs": [],
   "source": [
    "c = {...}\n",
    "c.add(\"asd\")\n",
    "c.remove(\"Dsa\")\n",
    "c.add(\"Cda\")\n",
    "c.remove(\"Asd\")"
   ]
  },
  {
   "cell_type": "markdown",
   "metadata": {},
   "source": [
    "Задача 4: Придумайте словарь `d`, такой, что\n",
    "\n",
    "$d[(i^2, j^2)] == \\sqrt{i^2+j^2}$, если $\\sqrt{i^2+j^2}$ - целое число"
   ]
  },
  {
   "cell_type": "code",
   "execution_count": null,
   "metadata": {},
   "outputs": [],
   "source": [
    "d = {\n",
    "    ...\n",
    "}"
   ]
  },
  {
   "cell_type": "markdown",
   "metadata": {},
   "source": [
    "Тут магия для крависовй проверки. Эту ячейку надо просто запустить."
   ]
  },
  {
   "cell_type": "code",
   "execution_count": null,
   "metadata": {},
   "outputs": [],
   "source": [
    "def check():\n",
    "    def sqs(i, j):\n",
    "        return i ** 2 + j ** 2\n",
    "    checks = {\n",
    "        '1': lambda: [len(a) == 5, all((a[i] + a[-i]) == 6 for i in range(5))],\n",
    "        '2': lambda: [' '.join(b) == \"Asd Dsa \"],\n",
    "        '3': lambda: [len(c) == 2],\n",
    "        '4': lambda: [len(d) == 4, all((i, j) in d and type(d[i, j]) is int and sqs(i, j) == (d[i, j] ** 2) for i in range(1, 11) for j in range(1, 11) if any(sqs(i, j) == c ** 2 for c in range(11)))]\n",
    "    }\n",
    "    for name, check in checks.items():\n",
    "        print(f\"Задача {name}:\", \"+\" if all(check()) else \"-\")\n",
    "\n",
    "check()"
   ]
  }
 ],
 "metadata": {
  "kernelspec": {
   "display_name": "Python 3.8",
   "language": "python",
   "name": "python38"
  },
  "language_info": {
   "codemirror_mode": {
    "name": "ipython",
    "version": 3
   },
   "file_extension": ".py",
   "mimetype": "text/x-python",
   "name": "python",
   "nbconvert_exporter": "python",
   "pygments_lexer": "ipython3",
   "version": "3.8.0"
  }
 },
 "nbformat": 4,
 "nbformat_minor": 4
}
